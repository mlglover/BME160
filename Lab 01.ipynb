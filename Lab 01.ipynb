{
 "cells": [
  {
   "cell_type": "markdown",
   "metadata": {},
   "source": [
    "## Deliverables:  30 total points\n",
    "  - helloMe 4 points\n",
    "  - helloAgain 5 points\n",
    "  - myBio 6 points\n",
    "  - countAT-bugsSoln 9 points\n",
    "  - countNucleotides 6 points\n",
    "     \n",
    "## Due: Monday January 13, 2019 11:55pm \n",
    "## Lab 1 – Introduction to Python (30 points)\n",
    "Work in pairs. Find youself a partner who you will hopefully work with throughout the quarter.\n",
    "Although you are required to turn in independent code and answers yourself, you are encouraged to ask questions and work with each other to solve these exercises. Programming has a lot of area-specific vocabulary and concepts so it is often extremely helpful to ask for help when you run up against hurdles. Make sure to include your partners name as a comment in the first few lines of your program, like this:"
   ]
  },
  {
   "cell_type": "code",
   "execution_count": null,
   "metadata": {},
   "outputs": [],
   "source": [
    "#!/usr/bin/env python3 \n",
    "# Name: Your full name (CATS account username) \n",
    "# Group Members: List full names (CATS usernames) or “None”"
   ]
  },
  {
   "cell_type": "markdown",
   "metadata": {},
   "source": [
    "## Setup your workspace\n",
    "### Logging into the lab computers\n",
    "To access the lab computers, your login name and password should be identical to those used for your CruzMail account.\n",
    "### Downloading your first notebook\n",
    "The document you are now reading is a jupyter notebook. It is available for download using our class website service Canvas. \n",
    "First we will need to create a folder that you’ll use for this lab. To do this create a folder called bme160 on the desktop.\n",
    "From Canvas :: files :: jupyter, download Lab01.ipynb, and place it into your bme160 folder.\n",
    "\n",
    "There are five programs you will need to write. They are all embedded in Lab01.ipynb as jupyter \"cells\". Move Lab01.ipynb into your bme160 folder.\n",
    "### Accessing Jupyter\n",
    "####  Open jupyter\n",
    "\n",
    "There are a number of ways to startup jupyter. Here are a few:\n",
    " -  LocalHost  Open _terminal_ ( located in the utilities folder on MacOS ), then change to the bme 160 directory and startup: jupyter notebook\n",
    " - https://try.jupyter.org you will then need to upload Lab 01.ipynb to that remote server. This server enforces a 10-minute inactivity limit, so you will need to save your work often. Note that this remote server sometimes doesnt run.\n",
    "\n",
    "Try out the interactive shell by selecting the following cell, then push the \"run cell\" button in the toolbar above, or pull down the _Cell_ menu above and select Run Cells. Notice that cells that contain runable code start with In [ ]: "
   ]
  },
  {
   "cell_type": "code",
   "execution_count": 3,
   "metadata": {},
   "outputs": [
    {
     "name": "stdout",
     "output_type": "stream",
     "text": [
      "hello Barak\n"
     ]
    }
   ],
   "source": [
    "print ('hello Barak')"
   ]
  },
  {
   "cell_type": "markdown",
   "metadata": {},
   "source": [
    "make sure that “hello Barak” is returned.\n",
    "\n",
    "From here on, you will be writing programs. \n",
    "## First python program\n",
    "The hello.py program one of the first python programs that people write.\n",
    "\n",
    "Documenting code is an important and often overlooked process in software engineering. Don’t fall into the trap of not adding comments to your code! Note, you will not receive full credit on your assignment if your code is not clearly documented. To add comments you use the ’#’ character for single line comments, or you can use triple-quotes (“””) to begin a block of comments and then add another set of triple-quotes to end that block comment.\n",
    "\n",
    "To get an idea of what documenting and comments look like, here is an old-school version of the ’hello.py’ program,  documented:"
   ]
  },
  {
   "cell_type": "code",
   "execution_count": null,
   "metadata": {},
   "outputs": [],
   "source": [
    "#!/usr/bin/env python3\n",
    "# Name: David Bernick (dbernick)\n",
    "# Group Members: John Cleese (jcleese) and Eric Idle (eidle)\n",
    "\n",
    "\"\"\"\n",
    "Print out the string Hello World when run.\n",
    "\"\"\"\n",
    "# remember that strings in python use either single (') or double (\") quotes.\n",
    "print (\"Hello World\")"
   ]
  },
  {
   "cell_type": "markdown",
   "metadata": {},
   "source": [
    "Add your own similar-looking documentation and comments to the the code cell that follows, customizing it for yourself, and lets make it print: Hello _your name_ instead. In my case, it would print \"Hello David\""
   ]
  },
  {
   "cell_type": "markdown",
   "metadata": {},
   "source": [
    "## helloMe"
   ]
  },
  {
   "cell_type": "code",
   "execution_count": 94,
   "metadata": {},
   "outputs": [
    {
     "name": "stdout",
     "output_type": "stream",
     "text": [
      "Hello Marissa\n"
     ]
    }
   ],
   "source": [
    "#!/usr/bin/env python3\n",
    "# Name: Marissa Glover (mlglover)\n",
    "# Group Members: none\n",
    "\n",
    "\"\"\"\n",
    "Print out a greeting to the person that wrote this.\n",
    "\n",
    "input: none\n",
    "output: greeting printed to the screen\n",
    "\"\"\" \n",
    "\n",
    "class Announcer (str):\n",
    "    \"\"\"The class will be a template for objects.\"\"\"\n",
    "    def printMe (self):\n",
    "        \"\"\"Make a method to print the greeting to the person who wrote this.\"\"\"\n",
    "        print (self)\n",
    "\n",
    "#Call the class and method to print the greeting\n",
    "student = Announcer ('Hello Marissa')\n",
    "student.printMe()"
   ]
  },
  {
   "cell_type": "markdown",
   "metadata": {},
   "source": [
    "There are a few things to mention about this style of coding. Classes are templates for _objects_. The _announcer_ class is a kind of _string_ class, and we tell python that by including (str) after the name of the class. We have added a method ( printme) to the announcer class, and that method allows objects of class announcer to _print_ themselves. In python, we refer to data that is saved with an object using the word _self_. Since objects of this class are strings, _self_ refers to the string data. You will notice that python methods are defined using the keyword: def _name_ ( self, parameters)\n",
    "\n",
    "The line: _student = announcer ('Hello David')_ creates a new object, named student, of class _announcer_ and it is given a parameter _'Hello David'_. That parameter is given to announcer as its data. Objects of class announcer refer to that data using the name _self_. \n",
    "\n",
    "The line: _student.printMe()_ sends a printme() message to the student object, and the student object then prints out its data."
   ]
  },
  {
   "cell_type": "markdown",
   "metadata": {},
   "source": [
    "## Return of “Hello World”\n",
    "We will now take a look at a more sophisticated, first person version of _helloMe_. \n",
    "As currently written, it should ask you to enter a name; you type in the name and then press the _enter_ key (maybe labelled return).\n",
    "\n",
    "The output you should see is:\n",
    "\n",
    "Hi there, I am _name_\n",
    "\n",
    "Look at _helloAgain_ below. You’ll notice that it’s more complex and longer than _helloMe_. \n",
    "Now modify _helloAgain_ so that, in addition to asking for the __synthetic human's__ name, the program also asks for a favorite pet like this:\n",
    "\n",
    "“What is my favorite pet? :”\n",
    "\n",
    "To make this clearer, here are a few lines that belong in your revised _helloAgain_."
   ]
  },
  {
   "cell_type": "code",
   "execution_count": null,
   "metadata": {},
   "outputs": [],
   "source": [
    "name = input( \"What is my name? : \" )\n",
    "pet = input( \"What is my favorite kind of pet? : \")\n",
    "newPerson = person (name, pet)\n",
    "newPerson.introduce()"
   ]
  },
  {
   "cell_type": "markdown",
   "metadata": {},
   "source": [
    "### helloAgain"
   ]
  },
  {
   "cell_type": "code",
   "execution_count": 95,
   "metadata": {},
   "outputs": [
    {
     "name": "stdout",
     "output_type": "stream",
     "text": [
      "What is my name? : Marissa\n",
      "What is my favorite kind of pet? : dog\n",
      "Hi there, I am Marissa, and I like dogs\n"
     ]
    }
   ],
   "source": [
    "#!/usr/bin/env python3\n",
    "# Name: Marissa Glover (mlglover)\n",
    "# Group Members: none\n",
    "\n",
    "\"\"\"\n",
    "Build a Person object and have it introduce itself.\n",
    "\n",
    "input: a string of arbitrary length, which is used to name the new person object\n",
    "output: greeting printed to the screen\n",
    "\"\"\"\n",
    "\n",
    "class Person:\n",
    "    \"\"\"Set the parameters of the class.\n",
    "    Arguments will automatically be passed to the __init__ method.\"\"\"\n",
    "    def __init__(self,name,pet):\n",
    "        \"\"\"Initialize the attributes of the Person.\"\"\"\n",
    "        self.myName = name\n",
    "        self.myPet  = pet\n",
    "        \n",
    "    def introduce (self):\n",
    "        \"\"\"Create method to print the attributes of the Person.\"\"\"\n",
    "        print (\"Hi there, I am {0}, and I like {1}s\".format(self.myName,self.myPet))\n",
    "\n",
    "#Ask for user's name and favorite pet\n",
    "name = input( \"What is my name? : \" )\n",
    "pet = input( \"What is my favorite kind of pet? : \")\n",
    "newPerson = Person (name, pet)\n",
    "newPerson.introduce()"
   ]
  },
  {
   "cell_type": "markdown",
   "metadata": {},
   "source": [
    "Your new version of _helloAgain_ should now print something that looks like this: \n",
    "\n",
    "“Hi there, I am _Sonny and I like _dog_s !”\n",
    "\n",
    "replacing the italicized text with what the user entered at the command line. Note the statement uses a plural form by appending the letter s, your program should do this too.\n",
    "\n",
    "So, if you decided that your new synthetic person shold be named Fred, and Fred is fond of his pet aardvark, then your program would output:\n",
    "\n",
    "Hi there, I am Fred and I like aardvarks!\n",
    "\n",
    "Remember to save and add documentation/comments to _helloAgain_ ."
   ]
  },
  {
   "cell_type": "markdown",
   "metadata": {},
   "source": [
    "## Brief Biography Program\n",
    "Now that you’ve gotten a little experience programming and seen a few python programs, next you’ll write a program that will do the following:\n",
    "\n",
    "  - Print your full name (first and last)\n",
    "  - Print your CATS/CruzMail username\n",
    "  - Print whether your are an undergraduate or graduate student\n",
    "  - Print your major\n",
    "  - Print why you are taking this class and what you hope to get out of it\n",
    "  - What problem in molecular biology most interests you.\n",
    "  - Print your prior computer programming experience\n",
    "\n",
    "This program should NOT ask the user for this data. This data should be constants in your program. The constants should NOT be part of the person class -- use parameters that are given to your person object when it is instantiated. \n",
    "The name of the program is “myBio” and a sample execution of the program should look something like this:\n",
    "\n",
    "My name is _**David Bernick**_. <br>\n",
    "My username is _**dbernick**_. <br>\n",
    "I am a _**professor**_. <br>\n",
    "My major is _**Bioinformatics and Biomolecular Engineering**_. <br>\n",
    "_**I’m  not taking this class, but I teach it**_. <br>\n",
    "_**I am a synthetic bioengineer and I’m interested in engineering living machines to build molecules and systems to solve issues of global need.**_ <br>\n",
    "I have prior programming experience using _**Python, Perl, Java, Fortran, Pascal, PL/1, ADA, Basic, TPL, APL, Assembly, and C++ **_. <br>\n",
    "\n",
    "Each piece of info should occupy only a single line.\n",
    "\n",
    "In order to get full credit, the program must use attributes of the person class for each of the _**emphasized strings**_ above and contain appropriate documentation/comments. \n",
    "\n",
    "Note that in Python, *names* that are part of a class are called *attributes*. Functions that are part of a class are called *methods*. In other languages, *names* are sometimes called *variables*."
   ]
  },
  {
   "cell_type": "markdown",
   "metadata": {},
   "source": [
    "### myBio"
   ]
  },
  {
   "cell_type": "code",
   "execution_count": 97,
   "metadata": {},
   "outputs": [
    {
     "name": "stdout",
     "output_type": "stream",
     "text": [
      "My name is Marissa Glover.\n",
      "My username is mlglover.\n",
      "I am a graduate student.\n",
      "My major is Molecular, Cellular, and Developmental Biology.\n",
      "I am taking this class because I am very interested in learning programming to answer biological questions and analyze large data sets on my own.\n",
      "I am interested in RNA biology during gene expression and have a growing interest in viruses.\n",
      "I have some experience with Python. I have written a few scripts and have used scripts to analyze sequencing data.\n"
     ]
    }
   ],
   "source": [
    "#!/usr/bin/env python3\n",
    "# Name: Marissa Glover (mlglover)\n",
    "# Group Members: none\n",
    "\n",
    "\"\"\"\n",
    "Build a Person object and have it introduce itself.\n",
    "\n",
    "input: a string of arbitrary length, which is used to name the new person object\n",
    "output: greeting printed to the screen\n",
    "\"\"\"\n",
    "\n",
    "class Person:\n",
    "    \"\"\"Set the parameters of the class.\n",
    "    Arguments will automatically be passed to the __init__ method.\"\"\"\n",
    "    def __init__(self,name,username,studentType,major,reasonTakingClass,problemOfInterest,programmingExperience):\n",
    "        \"\"\"Initialize the attributes of the Person.\"\"\"\n",
    "        self.myName = name\n",
    "        self.myUsername = username\n",
    "        self.myStudentType = studentType\n",
    "        self.myMajor = major\n",
    "        self.myReasonForTakingClass = reasonTakingClass\n",
    "        self.myFavoriteProblemOfInterest = problemOfInterest\n",
    "        self.myProgrammingExperience = programmingExperience\n",
    "\n",
    "    def introduce (self):\n",
    "        \"\"\"Create method to print the attributes of the Person.\"\"\"\n",
    "        print ('My name is {0}.'.format(self.myName))\n",
    "        print ('My username is {0}.'.format(self.myUsername))\n",
    "        print ('I am a {0}.'.format(self.myStudentType))\n",
    "        print ('My major is {0}.'.format(self.myMajor))\n",
    "        print ('I am taking this class because {0}.'.format(self.myReasonForTakingClass))\n",
    "        print (self.myFavoriteProblemOfInterest)\n",
    "        print (self.myProgrammingExperience)\n",
    "\n",
    "#Set argument attributes for Person class\n",
    "name = 'Marissa Glover'\n",
    "username = 'mlglover'\n",
    "studentType = 'graduate student'\n",
    "major = 'Molecular, Cellular, and Developmental Biology'\n",
    "reasonTakingClass = 'I am very interested in learning programming to answer biological questions and analyze large data sets on my own'\n",
    "problemOfInterest = 'I am interested in RNA biology during gene expression and have a growing interest in viruses.'\n",
    "programmingExperience = 'I have some experience with Python. I have written a few scripts and have used scripts to analyze sequencing data.'\n",
    "myBio = Person (name,username,studentType,major,reasonTakingClass,problemOfInterest,programmingExperience)\n",
    "myBio.introduce()"
   ]
  },
  {
   "cell_type": "markdown",
   "metadata": {},
   "source": [
    "## Debug buggy code\n",
    "Practice makes us better; usually debugging makes code closer to perfect. \n",
    "This program is supposed to ask the user to enter a DNA sequence and then output the AT content of the sequence— total number of As and Ts divided by the sequence length—as a fraction of the total sequence length (a number between 0 and 1).\n",
    "\n",
    "For example, given the string:\n",
    "\n",
    "AAAATGAATGGCTAACTTTTGAA\n",
    "\n",
    "the program should output: (make sure that you pay attention to the number of significant digits in the output!)\n",
    "\n",
    "AT content = 0.739\n",
    "\n",
    "Unfortunately there are a few bugs in the program. Your task is to identify and correct those bugs. This part of the assignment is to help familiarize you with the debugging process. It is possible to identify the bugs without using any of the following techniques just by looking over the program, but this will be good practice and will be essential when your code gets more complex.\n",
    "\n",
    "To debug countAT-bugs.py, run the program, which will produce an error. Figure out what the error is and correct the code. It’s likely that after you correct the first error you will notice another error. Repeat this process until you fix all the bugs and the program runs properly.\n",
    "\n",
    "Save a corrected copy of the program called countAT-bugsSoln.py that includes: \n",
    "  - Documentation and comments\n",
    "  - A program overview that includes how many bugs you found and what lines from the original file they were found at."
   ]
  },
  {
   "cell_type": "markdown",
   "metadata": {},
   "source": [
    "## countAT-bugs"
   ]
  },
  {
   "cell_type": "code",
   "execution_count": 98,
   "metadata": {},
   "outputs": [
    {
     "name": "stdout",
     "output_type": "stream",
     "text": [
      "Enter a dna sequence: ATCGCGCTATA\n",
      "AT content = 0.545\n"
     ]
    }
   ],
   "source": [
    "#!/usr/bin/env python3\n",
    "# Name: Marissa Glover (mlglover)\n",
    "# Group Members: none\n",
    "\n",
    "\"\"\"\n",
    "Debug the AT counter code. Errors will occur that need to be fixed.\n",
    "\n",
    "input: DNA sequence string\n",
    "output: AT content as fraction\n",
    "\n",
    "Errors with Lines referencing original code\n",
    "Error 1:\n",
    "    Line 5 class dnaString not CamelCase\n",
    "    Not technically an error, just a style error\n",
    "Solution 1:\n",
    "    Changed dnaString to DnaString\n",
    "\n",
    "Error 2:\n",
    "    Line 10 num_A = self.count(A)\n",
    "    NameError: name 'A' is not defined\n",
    "Solution 1: \n",
    "    Added quotes around A after self.count in line 22\n",
    "\n",
    "Error 3:\n",
    "    Line 12 return ((num_A + num_T)/ self.len())\n",
    "    AttributeError: 'DnaString' object has no attribute 'len'\n",
    "Solution 2: Changed self.len to self.length in line 12\n",
    "\n",
    "Error 4:\n",
    "    Line 18 print ('AT content = {0:0.1f}'.format(coolString.getAT()) )\n",
    "    No error given, but need to change sig figs\n",
    "Solution 3: Changed 0.1f to 0.3f to change sig figs\n",
    "\"\"\"\n",
    "\n",
    "class DnaString (str):\n",
    "    \"\"\"Create DnaString object from input sequence.\"\"\"\n",
    "    def length (self):\n",
    "        \"\"\"Determine the length of the input sequence.\"\"\"\n",
    "        return (len(self))\n",
    "\n",
    "    def getAT (self):\n",
    "        \"\"\"Count the numbers of A's and T's in the input DNA sequence.\"\"\"\n",
    "        num_A = self.count('A')\n",
    "        num_T = self.count('T')\n",
    "        return ((num_A + num_T)/ self.length())\n",
    "\n",
    "#Ask for a DNA sequence then convert to uppercase\n",
    "dna = input('Enter a dna sequence: ')\n",
    "upperDNA = dna.upper()\n",
    "coolString = DnaString(upperDNA)\n",
    "\n",
    "#Print AT content with 3 sig figs from calling getAT function on coolString\n",
    "print ('AT content = {0:0.3f}'.format(coolString.getAT()))"
   ]
  },
  {
   "cell_type": "markdown",
   "metadata": {},
   "source": [
    "## Counting DNA Letters \n",
    "Now that you are inspired by your ability to debug the countAT-bugs code, let's create a new program that will ask the user to enter a DNA sequence and then output the total sequence length and \n",
    "the number of each base {total As, Cs, Gs, Ts} found in the sequence. \n",
    "For example, given the string:\n",
    "\n",
    "AAAATGAATGGCTAACTTTTGAA\n",
    "\n",
    "the program should output:\n",
    "\n",
    "Your sequence is 23 nucleotides long with the following breakdown of bases:\n",
    "\n",
    "number As = 10\n",
    "number Cs = 2\n",
    "number Gs = 4\n",
    "number Ts = 7\n",
    "\n",
    "Write a program called countNucleotides (put it below) that will take in a DNA sequence entered by a user and produce the outputs specified above. Note that \"specified\" means ... \"required\"\n",
    "\n",
    "To get full credit on this assignment, your code needs to:\n",
    "\n",
    "  * Run properly\n",
    "  * Contain documentation/comments\n",
    "  * Include an overview about what your program is designed to do with expected inputs and outputs. Use a MarkDown Cell to write your overview."
   ]
  },
  {
   "cell_type": "markdown",
   "metadata": {},
   "source": [
    "### countNucleotides"
   ]
  },
  {
   "cell_type": "code",
   "execution_count": 100,
   "metadata": {},
   "outputs": [
    {
     "name": "stdout",
     "output_type": "stream",
     "text": [
      "Enter a dna sequence: atrg gat\n",
      "Your sequence is 8 nucleotides long\n",
      "number A's = 2, number T's = 2, number C's = 0, number G's = 2\n"
     ]
    }
   ],
   "source": [
    "#!/usr/bin/env python3\n",
    "# Name: Marissa Glover(mlglover)\n",
    "# Group Members: none\n",
    "\n",
    "\"\"\"\n",
    "Create a program to say how long a DNA sequence is and the frequency of each nucleotide.\n",
    "\n",
    "input: DNA sequence string\n",
    "output: length of sequence and frequency of each nucleotide\n",
    "\"\"\"\n",
    "\n",
    "class DnaString (str):\n",
    "    \"\"\"Create DnaString object from input sequence.\"\"\"\n",
    "    def length (self):\n",
    "        \"\"\"Determine the length of the input sequence.\"\"\"\n",
    "        return (len(self))\n",
    "\n",
    "    def countNucleotides (self):\n",
    "        \"\"\"Determine how many of each nucleotide is present in the input.\"\"\"\n",
    "        numA = self.count('A')\n",
    "        numT = self.count('T')\n",
    "        numC = self.count('C')\n",
    "        numG = self.count('G')\n",
    "        print (\"Your sequence is {0} nucleotides long\".format(self.length()))\n",
    "        print (\"number A's = {0}, number T's = {1}, number C's = {2}, number G's = {3}\".format(numA,numT,numC,numG))\n",
    "\n",
    "#Ask for a DNA sequence then convert to uppercase\n",
    "dna = input(\"Enter a dna sequence: \")\n",
    "upperDNA = dna.upper()\n",
    "coolString = DnaString(upperDNA)\n",
    "coolString.countNucleotides()"
   ]
  },
  {
   "cell_type": "markdown",
   "metadata": {},
   "source": [
    "This code was made to ask for an input DNA sequence, and then determine the length of the sequence and the frequency of each nucleotide. With what we've learned so far, I was not sure how to get the length not including spaces, so it technically has a bug because the length counts spaces. I thought about summing the numA+numT+numC+numG, but this would not account for N's or R's or other DNA single letter codes."
   ]
  },
  {
   "cell_type": "markdown",
   "metadata": {},
   "source": [
    "## Submit your code and answers\n",
    "Important: please save your work before logging out of the computer. This will ensure that you have a copy of your work and you will avoid having to redo everything in the event that something happens with the lab computers. The two recommended solutions (pick one) at this point are to:\n",
    "\n",
    "  - Email your jupyter notebook to yourself\n",
    "  - Copy your notebook to a pen drive\n",
    "  \n",
    "The class will be using canvas to submit the notebook created as part of this lab assignment.\n",
    "\n",
    "For this lab, you should upload your notebook with the following sections\n",
    "\n",
    "  * helloMe 4 points\n",
    "  * helloAgain 5 points\n",
    "  * myBio 6 points\n",
    "  * countAT-bugsSoln 9 points\n",
    "  * countNucleotides 6 points \n",
    "\n",
    "Important: to get full credit on this lab assignment, everything needs to\n",
    "\n",
    "  * Run properly\n",
    "  * Contain informative documentation/comment, including your name and your partner\n",
    "  * be your own work\n",
    "\n",
    "Congratulations, you finished your first lab assignment!"
   ]
  }
 ],
 "metadata": {
  "kernelspec": {
   "display_name": "Python 3",
   "language": "python",
   "name": "python3"
  },
  "language_info": {
   "codemirror_mode": {
    "name": "ipython",
    "version": 3
   },
   "file_extension": ".py",
   "mimetype": "text/x-python",
   "name": "python",
   "nbconvert_exporter": "python",
   "pygments_lexer": "ipython3",
   "version": "3.7.4"
  }
 },
 "nbformat": 4,
 "nbformat_minor": 2
}
